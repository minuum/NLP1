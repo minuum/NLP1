{
 "cells": [
  {
   "cell_type": "markdown",
   "metadata": {},
   "source": [
    "### 1.2.1 신경망 추론 전체 그림"
   ]
  },
  {
   "cell_type": "markdown",
   "metadata": {},
   "source": [
    "#### 완전연결계층 코딩 실습"
   ]
  },
  {
   "cell_type": "markdown",
   "metadata": {},
   "source": [
    "##### 완전 연결계층에 의한 변환의 미니배치 구현"
   ]
  },
  {
   "cell_type": "code",
   "execution_count": 1,
   "metadata": {},
   "outputs": [
    {
     "name": "stdout",
     "output_type": "stream",
     "text": [
      "[[-1.24000366  3.04544052 -0.44235178 -1.05815328]\n",
      " [-4.39353902 -1.49643055  4.83324546  0.90497929]\n",
      " [ 3.17634619 -0.96317311 -1.68802405 -0.52360303]\n",
      " [ 0.67070143 -1.25009337  0.53593218 -0.01577409]\n",
      " [ 2.09592904 -0.43012539 -1.11812214 -0.51261986]\n",
      " [ 2.02457146  4.31788142 -3.87223773 -2.00437768]\n",
      " [ 1.74693284  0.80664823 -1.56467045 -0.84621355]\n",
      " [ 1.85696385  0.75514994 -1.62436148 -0.848215  ]\n",
      " [-1.32654785 -1.11726259  2.09448255  0.27452289]\n",
      " [-1.26888604  0.2879631   1.21479098 -0.18008946]]\n"
     ]
    }
   ],
   "source": [
    "import numpy as np\n",
    "\n",
    "W1 = np.random.randn(2, 4)  # 가중치\n",
    "b1 = np.random.randn(4)     # 편향 \n",
    "x = np.random.randn(10, 2)  # 입력\n",
    "h = np.matmul(x, W1) + b1\n",
    "print(h)\n"
   ]
  },
  {
   "cell_type": "markdown",
   "metadata": {},
   "source": [
    "##### 비선형 활성화 함수를 이용하여 신경망의 표현력을 높임"
   ]
  },
  {
   "cell_type": "code",
   "execution_count": 2,
   "metadata": {},
   "outputs": [
    {
     "name": "stdout",
     "output_type": "stream",
     "text": [
      "[[-2.05901641 -4.15521395 -1.77113949]\n",
      " [-1.90983627 -4.22236104 -2.19223139]\n",
      " [-1.432128   -3.17420425 -1.11785206]\n",
      " [-1.79410485 -4.33912303 -2.85766657]\n",
      " [-1.77277526 -2.82517474  0.12981712]\n",
      " [-1.73598895 -4.38610636 -2.92516049]\n",
      " [-2.05618148 -4.08867    -1.62875936]\n",
      " [-1.3592505  -2.88395272 -0.71528679]\n",
      " [-1.98484835 -4.2540416  -2.16803874]\n",
      " [-1.8955853  -4.29974816 -2.4548625 ]]\n"
     ]
    }
   ],
   "source": [
    "\n",
    "def sigmoid(x):\n",
    "    return 1 / (1 + np.exp(-x))\n",
    "\n",
    "x = np.random.randn(10, 2)\n",
    "W1 = np.random.randn(2, 4)\n",
    "b1 = np.random.randn(4)\n",
    "W2 = np.random.randn(4, 3)\n",
    "b2 = np.random.randn(3)\n",
    "\n",
    "h = np.matmul(x, W1) + b1\n",
    "a = sigmoid(h)\n",
    "s = np.matmul(a, W2) + b2\n",
    "\n",
    "print(s)\n"
   ]
  },
  {
   "cell_type": "code",
   "execution_count": 3,
   "metadata": {},
   "outputs": [],
   "source": [
    "class Sigmoid:\n",
    "    def __init__(self):\n",
    "        self.params = []\n",
    "        \n",
    "    def forward(self, x):\n",
    "        return 1 / (1 + np.exp(-x))\n",
    "\n",
    "class Affine:\n",
    "    def __init__(self, W, b):\n",
    "        self.params = [W, b]\n",
    "        \n",
    "    def forward(self, x):\n",
    "        W, b = self.params\n",
    "        out = np.matmul(x, W) + b\n",
    "        return out"
   ]
  },
  {
   "cell_type": "markdown",
   "metadata": {},
   "source": [
    "### 1.2.2 계층으로 클래스화 및 순전파 구현"
   ]
  },
  {
   "cell_type": "markdown",
   "metadata": {},
   "source": [
    "#### 신경망 처리를 계층(layer)로 구현"
   ]
  },
  {
   "cell_type": "code",
   "execution_count": 4,
   "metadata": {},
   "outputs": [],
   "source": [
    "class Sigmoid:\n",
    "    def __init__(self):\n",
    "        self.params = []\n",
    "        \n",
    "    def forward(self, x):\n",
    "        return 1 / (1 + np.exp(-x))\n",
    "\n",
    "class Affine:\n",
    "    def __init__(self, W, b):\n",
    "        self.params = [W, b]\n",
    "        \n",
    "    def forward(self, x):\n",
    "        W, b = self.params\n",
    "        out = np.matmul(x, W) + b\n",
    "        return out\n"
   ]
  },
  {
   "cell_type": "markdown",
   "metadata": {},
   "source": [
    "##### 예시코드"
   ]
  },
  {
   "cell_type": "code",
   "execution_count": 5,
   "metadata": {},
   "outputs": [
    {
     "name": "stdout",
     "output_type": "stream",
     "text": [
      "입력 데이터: [[0.1 0.5]]\n",
      "첫 번째 은닉층 출력: [[-0.0716402   0.26957182  1.41086835]]\n",
      "활성화 함수 적용 후: [[0.48209761 0.56698779 0.80390287]]\n",
      "최종 출력: [[-0.2043349]]\n",
      "\n",
      "파라미터 확인:\n",
      "Affine1 파라미터: [array([[-1.14362811,  0.567009  , -0.57878563],\n",
      "       [ 0.08544522,  0.42574185,  2.93749383]]), array([0., 0., 0.])]\n",
      "Sigmoid 파라미터: []\n",
      "Affine2 파라미터: [array([[-0.09200721],\n",
      "       [-1.20537624],\n",
      "       [ 0.6511423 ]]), array([0.])]\n"
     ]
    }
   ],
   "source": [
    "import numpy as np\n",
    "\n",
    "# 레이어 생성\n",
    "affine1 = Affine(W=np.random.randn(2, 3), b=np.zeros(3))  # 입력 2차원, 출력 3차원\n",
    "sigmoid = Sigmoid()\n",
    "affine2 = Affine(W=np.random.randn(3, 1), b=np.zeros(1))  # 입력 3차원, 출력 1차원\n",
    "\n",
    "# 샘플 입력 데이터\n",
    "x = np.array([[0.1, 0.5]])  # 배치 크기 1, 특성 2개\n",
    "\n",
    "# 순전파(forward propagation) 실행\n",
    "h1 = affine1.forward(x)      # 첫 번째 affine 변환\n",
    "h2 = sigmoid.forward(h1)     # 활성화 함수 적용\n",
    "y = affine2.forward(h2)      # 두 번째 affine 변환\n",
    "\n",
    "print(\"입력 데이터:\", x)\n",
    "print(\"첫 번째 은닉층 출력:\", h1)\n",
    "print(\"활성화 함수 적용 후:\", h2)\n",
    "print(\"최종 출력:\", y)\n",
    "\n",
    "# 파라미터 확인\n",
    "print(\"\\n파라미터 확인:\")\n",
    "print(\"Affine1 파라미터:\", affine1.params)\n",
    "print(\"Sigmoid 파라미터:\", sigmoid.params)\n",
    "print(\"Affine2 파라미터:\", affine2.params)"
   ]
  },
  {
   "cell_type": "markdown",
   "metadata": {},
   "source": [
    "##### (1) TwoLayerNet 클래스 신경망"
   ]
  },
  {
   "cell_type": "code",
   "execution_count": 6,
   "metadata": {},
   "outputs": [],
   "source": [
    "class TwoLayerNet:\n",
    "    def __init__(self, input_size, hidden_size, output_size):\n",
    "        I, H, O = input_size, hidden_size, output_size\n",
    "        \n",
    "        # 가중치와 편향 초기화\n",
    "        W1 = np.random.randn(I, H)\n",
    "        b1 = np.random.randn(H)\n",
    "        W2 = np.random.randn(H, O)\n",
    "        b2 = np.random.randn(O)\n",
    "        \n",
    "        # 계층 생성\n",
    "        self.layers = [\n",
    "            Affine(W1, b1),\n",
    "            Sigmoid(),\n",
    "            Affine(W2, b2)\n",
    "        ]\n",
    "        \n",
    "        # 모든 가중치를 리스트에 모은다.\n",
    "        self.params = []\n",
    "        for layer in self.layers:\n",
    "            self.params += layer.params\n",
    "            \n",
    "    def predict(self, x):\n",
    "        for layer in self.layers:\n",
    "            x = layer.forward(x)\n",
    "        return x"
   ]
  },
  {
   "cell_type": "code",
   "execution_count": 7,
   "metadata": {},
   "outputs": [
    {
     "name": "stdout",
     "output_type": "stream",
     "text": [
      "[[ 0.91397965 -1.66465204  0.27253488]\n",
      " [ 0.87028018 -1.30414993  0.90061502]\n",
      " [ 0.97599007 -1.84104859  0.01923302]\n",
      " [ 0.9360887  -1.5018601   0.51560461]\n",
      " [ 0.94710176 -1.41747998  0.68330381]\n",
      " [ 0.73037909 -1.47455074  0.64049816]\n",
      " [ 0.78092866 -1.68479444  0.35152162]\n",
      " [ 0.6384145  -2.06482416  0.24858677]\n",
      " [ 0.72162174 -1.77901629  0.35365871]\n",
      " [ 0.89395185 -1.50908361  0.46868189]]\n"
     ]
    }
   ],
   "source": [
    "# 입력 데이터 생성 (10개의 샘플, 각각 2차원)\n",
    "x = np.random.randn(10, 2)\n",
    "\n",
    "# 2-4-3 구조의 신경망 모델 생성\n",
    "model = TwoLayerNet(2, 4, 3)\n",
    "\n",
    "# 예측 수행\n",
    "s = model.predict(x)\n",
    "print(s)"
   ]
  },
  {
   "cell_type": "markdown",
   "metadata": {},
   "source": [
    "#### 1.3.6 가중치 갱신(1)"
   ]
  },
  {
   "cell_type": "code",
   "execution_count": 8,
   "metadata": {},
   "outputs": [],
   "source": [
    "class SGD:\n",
    "    def __init__(self, lr=0.01):\n",
    "        self.lr = lr\n",
    "        \n",
    "    def update(self, params, grads):\n",
    "        for i in range(len(params)):\n",
    "            params[i] -= self.lr * grads[i]"
   ]
  },
  {
   "cell_type": "code",
   "execution_count": 9,
   "metadata": {},
   "outputs": [
    {
     "name": "stdout",
     "output_type": "stream",
     "text": [
      "Epoch 20, Loss: 3.0357\n",
      "Epoch 40, Loss: 2.6965\n",
      "Epoch 60, Loss: 0.9056\n",
      "Epoch 80, Loss: 2.1439\n",
      "Epoch 100, Loss: 1.9815\n",
      "\n",
      "최종 예측값:\n",
      "[[ 0.20266399 -0.35110293  0.24456534]\n",
      " [ 0.19621042 -0.34179565  0.24179674]\n",
      " [ 0.18796077 -0.32974902  0.23848594]\n",
      " [ 0.16989639 -0.30407139  0.230151  ]\n",
      " [ 0.21866642 -0.37418404  0.25142913]\n",
      " [ 0.22925982 -0.38964728  0.25569621]\n",
      " [ 0.15718969 -0.28590596  0.22443358]\n",
      " [ 0.17019181 -0.30454079  0.23021147]\n",
      " [ 0.23632914 -0.39964125  0.25904678]\n",
      " [ 0.20870665 -0.36007908  0.24675689]]\n"
     ]
    }
   ],
   "source": [
    "import numpy as np\n",
    "\n",
    "class Sigmoid:\n",
    "    def __init__(self):\n",
    "        self.params = []\n",
    "        self.out = None\n",
    "        \n",
    "    def forward(self, x):\n",
    "        self.out = 1 / (1 + np.exp(-x))\n",
    "        return self.out\n",
    "        \n",
    "    def backward(self, dout):\n",
    "        return dout * self.out * (1 - self.out)\n",
    "\n",
    "class Affine:\n",
    "    def __init__(self, W, b):\n",
    "        self.params = [W, b]\n",
    "        self.x = None\n",
    "        self.dW = None\n",
    "        self.db = None\n",
    "        \n",
    "    def forward(self, x):\n",
    "        W, b = self.params\n",
    "        self.x = x\n",
    "        out = np.matmul(x, W) + b\n",
    "        return out\n",
    "        \n",
    "    def backward(self, dout):\n",
    "        W, b = self.params\n",
    "        self.dW = np.matmul(self.x.T, dout)\n",
    "        self.db = np.sum(dout, axis=0)\n",
    "        dx = np.matmul(dout, W.T)\n",
    "        return dx\n",
    "\n",
    "class MSE:\n",
    "    def forward(self, y, t):\n",
    "        self.y = y\n",
    "        self.t = t\n",
    "        diff = y - t\n",
    "        return np.sum(diff ** 2) / len(y)\n",
    "    \n",
    "    def backward(self):\n",
    "        return 2 * (self.y - self.t) / len(self.y)\n",
    "\n",
    "class TwoLayerNet:\n",
    "    def __init__(self, input_size, hidden_size, output_size):\n",
    "        I, H, O = input_size, hidden_size, output_size\n",
    "        \n",
    "        # 가중치와 편향 초기화\n",
    "        W1 = np.random.randn(I, H) * 0.01  # 작은 초기값\n",
    "        b1 = np.zeros(H)\n",
    "        W2 = np.random.randn(H, O) * 0.01\n",
    "        b2 = np.zeros(O)\n",
    "        \n",
    "        # 계층 생성\n",
    "        self.layers = [\n",
    "            Affine(W1, b1),\n",
    "            Sigmoid(),\n",
    "            Affine(W2, b2)\n",
    "        ]\n",
    "        self.loss_layer = MSE()\n",
    "        \n",
    "        # 모든 가중치를 리스트에 모은다\n",
    "        self.params = []\n",
    "        for layer in self.layers:\n",
    "            self.params += layer.params\n",
    "            \n",
    "    def predict(self, x):\n",
    "        for layer in self.layers:\n",
    "            x = layer.forward(x)\n",
    "        return x\n",
    "    \n",
    "    def forward(self, x, t):\n",
    "        y = self.predict(x)\n",
    "        loss = self.loss_layer.forward(y, t)\n",
    "        return loss\n",
    "    \n",
    "    def gradient(self, x, t):\n",
    "        # 순전파\n",
    "        loss = self.forward(x, t)\n",
    "        \n",
    "        # 역전파\n",
    "        dout = self.loss_layer.backward()\n",
    "        for layer in reversed(self.layers):\n",
    "            dout = layer.backward(dout)\n",
    "            \n",
    "        # 기울기 리스트 생성\n",
    "        grads = []\n",
    "        for layer in self.layers:\n",
    "            if isinstance(layer, Affine):\n",
    "                grads.append(layer.dW)\n",
    "                grads.append(layer.db)\n",
    "            \n",
    "        return grads\n",
    "\n",
    "class SGD:\n",
    "    def __init__(self, lr=0.01):\n",
    "        self.lr = lr\n",
    "        \n",
    "    def update(self, params, grads):\n",
    "        for i in range(len(params)):\n",
    "            params[i] -= self.lr * grads[i]\n",
    "\n",
    "# 데이터 생성\n",
    "x = np.random.randn(10, 2)  # 입력 데이터\n",
    "t = np.random.randn(10, 3)  # 목표값\n",
    "\n",
    "# 모델과 옵티마이저 초기화\n",
    "model = TwoLayerNet(2, 4, 3)\n",
    "optimizer = SGD(lr=0.1)\n",
    "\n",
    "# 학습 루프\n",
    "losses = []\n",
    "for epoch in range(100):  # 100 에포크 동안 학습\n",
    "    # 미니배치 획득\n",
    "    batch_mask = np.random.choice(10, 5)\n",
    "    x_batch = x[batch_mask]\n",
    "    t_batch = t[batch_mask]\n",
    "    \n",
    "    # 기울기 계산\n",
    "    loss = model.forward(x_batch, t_batch)\n",
    "    grads = model.gradient(x_batch, t_batch)\n",
    "    \n",
    "    # 매개변수 갱신\n",
    "    optimizer.update(model.params, grads)\n",
    "    \n",
    "    # 손실 기록\n",
    "    losses.append(loss)\n",
    "    \n",
    "    # 20 에포크마다 손실 출력\n",
    "    if (epoch + 1) % 20 == 0:\n",
    "        print(f\"Epoch {epoch+1}, Loss: {loss:.4f}\")\n",
    "\n",
    "# 최종 예측\n",
    "final_pred = model.predict(x)\n",
    "print(\"\\n최종 예측값:\")\n",
    "print(final_pred)"
   ]
  },
  {
   "cell_type": "code",
   "execution_count": 20,
   "metadata": {},
   "outputs": [
    {
     "ename": "AttributeError",
     "evalue": "module 'numpy' has no attribute 'int'.\n`np.int` was a deprecated alias for the builtin `int`. To avoid this error in existing code, use `int` by itself. Doing this will not modify any behavior and is safe. When replacing `np.int`, you may wish to use e.g. `np.int64` or `np.int32` to specify the precision. If you wish to review your current use, check the release note link for additional information.\nThe aliases was originally deprecated in NumPy 1.20; for more details and guidance see the original release note at:\n    https://numpy.org/devdocs/release/1.20.0-notes.html#deprecations",
     "output_type": "error",
     "traceback": [
      "\u001b[0;31m---------------------------------------------------------------------------\u001b[0m",
      "\u001b[0;31mAttributeError\u001b[0m                            Traceback (most recent call last)",
      "Cell \u001b[0;32mIn[20], line 7\u001b[0m\n\u001b[1;32m      4\u001b[0m \u001b[38;5;28;01mimport\u001b[39;00m \u001b[38;5;21;01mmatplotlib\u001b[39;00m\u001b[38;5;21;01m.\u001b[39;00m\u001b[38;5;21;01mpyplot\u001b[39;00m \u001b[38;5;28;01mas\u001b[39;00m \u001b[38;5;21;01mplt\u001b[39;00m\n\u001b[1;32m      6\u001b[0m \u001b[38;5;66;03m# 데이터 로드\u001b[39;00m\n\u001b[0;32m----> 7\u001b[0m x, t \u001b[38;5;241m=\u001b[39m \u001b[43mspiral\u001b[49m\u001b[38;5;241;43m.\u001b[39;49m\u001b[43mload_data\u001b[49m\u001b[43m(\u001b[49m\u001b[43m)\u001b[49m\n\u001b[1;32m      8\u001b[0m \u001b[38;5;28mprint\u001b[39m(\u001b[38;5;124m'\u001b[39m\u001b[38;5;124mx\u001b[39m\u001b[38;5;124m'\u001b[39m, x\u001b[38;5;241m.\u001b[39mshape)  \u001b[38;5;66;03m# (300, 2)\u001b[39;00m\n\u001b[1;32m      9\u001b[0m \u001b[38;5;28mprint\u001b[39m(\u001b[38;5;124m'\u001b[39m\u001b[38;5;124mt\u001b[39m\u001b[38;5;124m'\u001b[39m, t\u001b[38;5;241m.\u001b[39mshape)  \u001b[38;5;66;03m# (300, 3)\u001b[39;00m\n",
      "File \u001b[0;32m~/Desktop/4-1/NLP1/data/spiral.py:12\u001b[0m, in \u001b[0;36mload_data\u001b[0;34m(seed)\u001b[0m\n\u001b[1;32m      9\u001b[0m CLS_NUM \u001b[38;5;241m=\u001b[39m \u001b[38;5;241m3\u001b[39m  \u001b[38;5;66;03m# 클래스 수\u001b[39;00m\n\u001b[1;32m     11\u001b[0m x \u001b[38;5;241m=\u001b[39m np\u001b[38;5;241m.\u001b[39mzeros((N\u001b[38;5;241m*\u001b[39mCLS_NUM, DIM))\n\u001b[0;32m---> 12\u001b[0m t \u001b[38;5;241m=\u001b[39m np\u001b[38;5;241m.\u001b[39mzeros((N\u001b[38;5;241m*\u001b[39mCLS_NUM, CLS_NUM), dtype\u001b[38;5;241m=\u001b[39m\u001b[43mnp\u001b[49m\u001b[38;5;241;43m.\u001b[39;49m\u001b[43mint\u001b[49m)\n\u001b[1;32m     14\u001b[0m \u001b[38;5;28;01mfor\u001b[39;00m j \u001b[38;5;129;01min\u001b[39;00m \u001b[38;5;28mrange\u001b[39m(CLS_NUM):\n\u001b[1;32m     15\u001b[0m     \u001b[38;5;28;01mfor\u001b[39;00m i \u001b[38;5;129;01min\u001b[39;00m \u001b[38;5;28mrange\u001b[39m(N): \u001b[38;5;66;03m# N*j, N*(j+1)):\u001b[39;00m\n",
      "File \u001b[0;32m~/Library/Caches/pypoetry/virtualenvs/minumm-llm-Rm-Uohrr-py3.12/lib/python3.12/site-packages/numpy/__init__.py:324\u001b[0m, in \u001b[0;36m__getattr__\u001b[0;34m(attr)\u001b[0m\n\u001b[1;32m    319\u001b[0m     warnings\u001b[38;5;241m.\u001b[39mwarn(\n\u001b[1;32m    320\u001b[0m         \u001b[38;5;124mf\u001b[39m\u001b[38;5;124m\"\u001b[39m\u001b[38;5;124mIn the future `np.\u001b[39m\u001b[38;5;132;01m{\u001b[39;00mattr\u001b[38;5;132;01m}\u001b[39;00m\u001b[38;5;124m` will be defined as the \u001b[39m\u001b[38;5;124m\"\u001b[39m\n\u001b[1;32m    321\u001b[0m         \u001b[38;5;124m\"\u001b[39m\u001b[38;5;124mcorresponding NumPy scalar.\u001b[39m\u001b[38;5;124m\"\u001b[39m, \u001b[38;5;167;01mFutureWarning\u001b[39;00m, stacklevel\u001b[38;5;241m=\u001b[39m\u001b[38;5;241m2\u001b[39m)\n\u001b[1;32m    323\u001b[0m \u001b[38;5;28;01mif\u001b[39;00m attr \u001b[38;5;129;01min\u001b[39;00m __former_attrs__:\n\u001b[0;32m--> 324\u001b[0m     \u001b[38;5;28;01mraise\u001b[39;00m \u001b[38;5;167;01mAttributeError\u001b[39;00m(__former_attrs__[attr])\n\u001b[1;32m    326\u001b[0m \u001b[38;5;28;01mif\u001b[39;00m attr \u001b[38;5;241m==\u001b[39m \u001b[38;5;124m'\u001b[39m\u001b[38;5;124mtesting\u001b[39m\u001b[38;5;124m'\u001b[39m:\n\u001b[1;32m    327\u001b[0m     \u001b[38;5;28;01mimport\u001b[39;00m \u001b[38;5;21;01mnumpy\u001b[39;00m\u001b[38;5;21;01m.\u001b[39;00m\u001b[38;5;21;01mtesting\u001b[39;00m \u001b[38;5;28;01mas\u001b[39;00m \u001b[38;5;21;01mtesting\u001b[39;00m\n",
      "\u001b[0;31mAttributeError\u001b[0m: module 'numpy' has no attribute 'int'.\n`np.int` was a deprecated alias for the builtin `int`. To avoid this error in existing code, use `int` by itself. Doing this will not modify any behavior and is safe. When replacing `np.int`, you may wish to use e.g. `np.int64` or `np.int32` to specify the precision. If you wish to review your current use, check the release note link for additional information.\nThe aliases was originally deprecated in NumPy 1.20; for more details and guidance see the original release note at:\n    https://numpy.org/devdocs/release/1.20.0-notes.html#deprecations"
     ]
    }
   ],
   "source": [
    "import sys\n",
    "sys.path.append('..')  # 부모 디렉터리의 파일을 가져올 수 있도록 설정\n",
    "from data import spiral\n",
    "import matplotlib.pyplot as plt\n",
    "\n",
    "# 데이터 로드\n",
    "x, t = spiral.load_data()\n",
    "print('x', x.shape)  # (300, 2)\n",
    "print('t', t.shape)  # (300, 3)\n",
    "\n",
    "# 데이터 시각화\n",
    "N = 100\n",
    "CLS_NUM = 3\n",
    "markers = ['o', 'x', '^']\n",
    "\n",
    "for i in range(CLS_NUM):\n",
    "    plt.scatter(x[i*N:(i+1)*N, 0], x[i*N:(i+1)*N, 1], marker=markers[i])\n",
    "\n",
    "plt.xlabel('x0')\n",
    "plt.ylabel('x1')\n",
    "plt.title('스파이럴 데이터셋')\n",
    "plt.grid(True)\n",
    "plt.show()"
   ]
  },
  {
   "cell_type": "code",
   "execution_count": 10,
   "metadata": {},
   "outputs": [
    {
     "ename": "AttributeError",
     "evalue": "module 'numpy' has no attribute 'int'.\n`np.int` was a deprecated alias for the builtin `int`. To avoid this error in existing code, use `int` by itself. Doing this will not modify any behavior and is safe. When replacing `np.int`, you may wish to use e.g. `np.int64` or `np.int32` to specify the precision. If you wish to review your current use, check the release note link for additional information.\nThe aliases was originally deprecated in NumPy 1.20; for more details and guidance see the original release note at:\n    https://numpy.org/devdocs/release/1.20.0-notes.html#deprecations",
     "output_type": "error",
     "traceback": [
      "\u001b[0;31m---------------------------------------------------------------------------\u001b[0m",
      "\u001b[0;31mAttributeError\u001b[0m                            Traceback (most recent call last)",
      "Cell \u001b[0;32mIn[10], line 6\u001b[0m\n\u001b[1;32m      3\u001b[0m \u001b[38;5;28;01mfrom\u001b[39;00m \u001b[38;5;21;01mdata\u001b[39;00m\u001b[38;5;21;01m.\u001b[39;00m\u001b[38;5;21;01mspiral\u001b[39;00m \u001b[38;5;28;01mimport\u001b[39;00m load_data  \u001b[38;5;66;03m# 경로 수정\u001b[39;00m\n\u001b[1;32m      5\u001b[0m \u001b[38;5;66;03m# 데이터 로드\u001b[39;00m\n\u001b[0;32m----> 6\u001b[0m x, t \u001b[38;5;241m=\u001b[39m \u001b[43mload_data\u001b[49m\u001b[43m(\u001b[49m\u001b[43m)\u001b[49m\n\u001b[1;32m      7\u001b[0m \u001b[38;5;28mprint\u001b[39m(\u001b[38;5;124m'\u001b[39m\u001b[38;5;124mx\u001b[39m\u001b[38;5;124m'\u001b[39m, x\u001b[38;5;241m.\u001b[39mshape)  \u001b[38;5;66;03m# (300, 2)\u001b[39;00m\n\u001b[1;32m      8\u001b[0m \u001b[38;5;28mprint\u001b[39m(\u001b[38;5;124m'\u001b[39m\u001b[38;5;124mt\u001b[39m\u001b[38;5;124m'\u001b[39m, t\u001b[38;5;241m.\u001b[39mshape)  \u001b[38;5;66;03m# (300, 3)\u001b[39;00m\n",
      "File \u001b[0;32m~/Desktop/4-1/NLP1/data/spiral.py:11\u001b[0m, in \u001b[0;36mload_data\u001b[0;34m(seed)\u001b[0m\n\u001b[1;32m      8\u001b[0m CLS_NUM \u001b[38;5;241m=\u001b[39m \u001b[38;5;241m3\u001b[39m  \u001b[38;5;66;03m# 클래스 수\u001b[39;00m\n\u001b[1;32m     10\u001b[0m x \u001b[38;5;241m=\u001b[39m np\u001b[38;5;241m.\u001b[39mzeros((N\u001b[38;5;241m*\u001b[39mCLS_NUM, DIM))\n\u001b[0;32m---> 11\u001b[0m t \u001b[38;5;241m=\u001b[39m np\u001b[38;5;241m.\u001b[39mzeros((N\u001b[38;5;241m*\u001b[39mCLS_NUM, CLS_NUM), dtype\u001b[38;5;241m=\u001b[39m\u001b[43mnp\u001b[49m\u001b[38;5;241;43m.\u001b[39;49m\u001b[43mint\u001b[49m)\n\u001b[1;32m     13\u001b[0m \u001b[38;5;28;01mfor\u001b[39;00m j \u001b[38;5;129;01min\u001b[39;00m \u001b[38;5;28mrange\u001b[39m(CLS_NUM):\n\u001b[1;32m     14\u001b[0m     \u001b[38;5;28;01mfor\u001b[39;00m i \u001b[38;5;129;01min\u001b[39;00m \u001b[38;5;28mrange\u001b[39m(N):\n",
      "File \u001b[0;32m~/Library/Caches/pypoetry/virtualenvs/minumm-llm-Rm-Uohrr-py3.12/lib/python3.12/site-packages/numpy/__init__.py:324\u001b[0m, in \u001b[0;36m__getattr__\u001b[0;34m(attr)\u001b[0m\n\u001b[1;32m    319\u001b[0m     warnings\u001b[38;5;241m.\u001b[39mwarn(\n\u001b[1;32m    320\u001b[0m         \u001b[38;5;124mf\u001b[39m\u001b[38;5;124m\"\u001b[39m\u001b[38;5;124mIn the future `np.\u001b[39m\u001b[38;5;132;01m{\u001b[39;00mattr\u001b[38;5;132;01m}\u001b[39;00m\u001b[38;5;124m` will be defined as the \u001b[39m\u001b[38;5;124m\"\u001b[39m\n\u001b[1;32m    321\u001b[0m         \u001b[38;5;124m\"\u001b[39m\u001b[38;5;124mcorresponding NumPy scalar.\u001b[39m\u001b[38;5;124m\"\u001b[39m, \u001b[38;5;167;01mFutureWarning\u001b[39;00m, stacklevel\u001b[38;5;241m=\u001b[39m\u001b[38;5;241m2\u001b[39m)\n\u001b[1;32m    323\u001b[0m \u001b[38;5;28;01mif\u001b[39;00m attr \u001b[38;5;129;01min\u001b[39;00m __former_attrs__:\n\u001b[0;32m--> 324\u001b[0m     \u001b[38;5;28;01mraise\u001b[39;00m \u001b[38;5;167;01mAttributeError\u001b[39;00m(__former_attrs__[attr])\n\u001b[1;32m    326\u001b[0m \u001b[38;5;28;01mif\u001b[39;00m attr \u001b[38;5;241m==\u001b[39m \u001b[38;5;124m'\u001b[39m\u001b[38;5;124mtesting\u001b[39m\u001b[38;5;124m'\u001b[39m:\n\u001b[1;32m    327\u001b[0m     \u001b[38;5;28;01mimport\u001b[39;00m \u001b[38;5;21;01mnumpy\u001b[39;00m\u001b[38;5;21;01m.\u001b[39;00m\u001b[38;5;21;01mtesting\u001b[39;00m \u001b[38;5;28;01mas\u001b[39;00m \u001b[38;5;21;01mtesting\u001b[39;00m\n",
      "\u001b[0;31mAttributeError\u001b[0m: module 'numpy' has no attribute 'int'.\n`np.int` was a deprecated alias for the builtin `int`. To avoid this error in existing code, use `int` by itself. Doing this will not modify any behavior and is safe. When replacing `np.int`, you may wish to use e.g. `np.int64` or `np.int32` to specify the precision. If you wish to review your current use, check the release note link for additional information.\nThe aliases was originally deprecated in NumPy 1.20; for more details and guidance see the original release note at:\n    https://numpy.org/devdocs/release/1.20.0-notes.html#deprecations"
     ]
    }
   ],
   "source": [
    "import numpy as np\n",
    "import matplotlib.pyplot as plt\n",
    "from data.spiral import load_data  # 경로 수정\n",
    "\n",
    "# 데이터 로드\n",
    "x, t = load_data()\n",
    "print('x', x.shape)  # (300, 2)\n",
    "print('t', t.shape)  # (300, 3)\n",
    "\n",
    "# 데이터 시각화\n",
    "N = 100\n",
    "CLS_NUM = 3\n",
    "markers = ['o', 'x', '^']\n",
    "\n",
    "for i in range(CLS_NUM):\n",
    "    plt.scatter(x[i*N:(i+1)*N, 0], x[i*N:(i+1)*N, 1], marker=markers[i])\n",
    "\n",
    "plt.xlabel('x0')\n",
    "plt.ylabel('x1')\n",
    "plt.title('스파이럴 데이터셋')\n",
    "plt.grid(True)\n",
    "plt.show()"
   ]
  },
  {
   "cell_type": "code",
   "execution_count": null,
   "metadata": {},
   "outputs": [],
   "source": []
  }
 ],
 "metadata": {
  "kernelspec": {
   "display_name": "minumm-llm-Rm-Uohrr-py3.12",
   "language": "python",
   "name": "python3"
  },
  "language_info": {
   "codemirror_mode": {
    "name": "ipython",
    "version": 3
   },
   "file_extension": ".py",
   "mimetype": "text/x-python",
   "name": "python",
   "nbconvert_exporter": "python",
   "pygments_lexer": "ipython3",
   "version": "3.12.4"
  }
 },
 "nbformat": 4,
 "nbformat_minor": 2
}
